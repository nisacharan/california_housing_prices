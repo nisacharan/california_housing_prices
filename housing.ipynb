{
 "cells": [
  {
   "cell_type": "code",
   "execution_count": 3,
   "id": "a436ea01",
   "metadata": {},
   "outputs": [],
   "source": [
    "import os\n",
    "import tarfile\n",
    "from six.moves import urllib"
   ]
  },
  {
   "cell_type": "code",
   "execution_count": 4,
   "id": "38d916f9",
   "metadata": {},
   "outputs": [],
   "source": [
    "download_root = \"https://raw.githubusercontent.com/ageron/handson-ml2/master/\"\n",
    "housing_path = os.path.join(\"datasets\",\"housing\")\n",
    "housing_url = download_root"
   ]
  },
  {
   "cell_type": "code",
   "execution_count": 5,
   "metadata": {},
   "outputs": [],
   "source": [
    "def fetch_data(source_url=housing_url,download_dest=housing_path):\n",
    "    if not os.path.isdir(download_dest):\n",
    "        os.mkdir(download_dest)\n",
    "    zip_path = os.path.join(download_dest,\"housing.tgz\")\n",
    "    urllib.request.urlretrieve(source_url,zip_path)\n",
    "    housing_tgz = tarfile.open(zip_path)\n",
    "    housing_tgz.extractall(path=download_dest)\n",
    "    housing_tgz.close()"
   ]
  },
  {
   "cell_type": "code",
   "execution_count": null,
   "metadata": {},
   "outputs": [],
   "source": [
    "import pandas as pd \n",
    "def load_housing_data(housing_path=housing_path):\n",
    "    csv_path = os.path.join(housing_path,\"housing.csv\")\n",
    "    pd.read_csv(csv_path)"
   ]
  }
 ],
 "metadata": {
  "kernelspec": {
   "name": "python385jvsc74a57bd032e30b54ccf9ca3c30308d5c55fc8be41b60554fa404fc050356e5a76904ac14",
   "display_name": "Python 3.8.5 64-bit ('base': conda)"
  },
  "language_info": {
   "codemirror_mode": {
    "name": "ipython",
    "version": 3
   },
   "file_extension": ".py",
   "mimetype": "text/x-python",
   "name": "python",
   "nbconvert_exporter": "python",
   "pygments_lexer": "ipython3",
   "version": "3.8.5"
  },
  "metadata": {
   "interpreter": {
    "hash": "32e30b54ccf9ca3c30308d5c55fc8be41b60554fa404fc050356e5a76904ac14"
   }
  }
 },
 "nbformat": 4,
 "nbformat_minor": 5
}